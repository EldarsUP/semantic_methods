{
  "nbformat": 4,
  "nbformat_minor": 0,
  "metadata": {
    "colab": {
      "provenance": [],
      "authorship_tag": "ABX9TyMRDwnnvui10HI0iwSRZZB5",
      "include_colab_link": true
    },
    "kernelspec": {
      "name": "python3",
      "display_name": "Python 3"
    },
    "language_info": {
      "name": "python"
    }
  },
  "cells": [
    {
      "cell_type": "markdown",
      "metadata": {
        "id": "view-in-github",
        "colab_type": "text"
      },
      "source": [
        "<a href=\"https://colab.research.google.com/github/EldarsUP/semantic_methods/blob/main/homework3.ipynb\" target=\"_parent\"><img src=\"https://colab.research.google.com/assets/colab-badge.svg\" alt=\"Open In Colab\"/></a>"
      ]
    },
    {
      "cell_type": "markdown",
      "source": [
        "Импорт нужных библиотек"
      ],
      "metadata": {
        "id": "EEMR0tEXKXTb"
      }
    },
    {
      "cell_type": "code",
      "execution_count": 34,
      "metadata": {
        "id": "omx3d9MHKOSJ"
      },
      "outputs": [],
      "source": [
        "import numpy as np\n",
        "import pandas as pd\n",
        "from sklearn.model_selection import train_test_split\n",
        "from sklearn.preprocessing import StandardScaler"
      ]
    },
    {
      "cell_type": "markdown",
      "source": [
        "# Генерация искусственного датасета (цена жилья по 3 признакам)  #\n",
        "1000 объектов, 3 признака + цена"
      ],
      "metadata": {
        "id": "mpdjBCRYKb8v"
      }
    },
    {
      "cell_type": "code",
      "source": [
        "data = np.random.rand(1000, 4)\n",
        "columns = ['Feature1', 'Feature2', 'Feature3', 'Price']\n",
        "df = pd.DataFrame(data, columns=columns)"
      ],
      "metadata": {
        "id": "9rrbdxIxKbo5"
      },
      "execution_count": 61,
      "outputs": []
    },
    {
      "cell_type": "markdown",
      "source": [
        "# Разделение на признаки и целевую переменную"
      ],
      "metadata": {
        "id": "GTf5QYY_KlWT"
      }
    },
    {
      "cell_type": "code",
      "source": [
        "X = df[['Feature1', 'Feature2', 'Feature3']].values\n",
        "y = df['Price'].values.reshape(-1, 1)"
      ],
      "metadata": {
        "id": "UclqVrbeKl7Q"
      },
      "execution_count": 62,
      "outputs": []
    },
    {
      "cell_type": "markdown",
      "source": [
        "# Нормализация данных"
      ],
      "metadata": {
        "id": "Ts-UCdtVKoPI"
      }
    },
    {
      "cell_type": "code",
      "source": [
        "scaler_X = StandardScaler()\n",
        "scaler_y = StandardScaler()\n",
        "X = scaler_X.fit_transform(X)\n",
        "y = scaler_y.fit_transform(y)"
      ],
      "metadata": {
        "id": "37OV3Od3Kn_S"
      },
      "execution_count": 63,
      "outputs": []
    },
    {
      "cell_type": "markdown",
      "source": [
        "# Разделение на тренировочную и тестовую выборки"
      ],
      "metadata": {
        "id": "RgXEYH2dKji5"
      }
    },
    {
      "cell_type": "code",
      "source": [
        "X_train, X_test, y_train, y_test = train_test_split(X, y, test_size=0.2, random_state=42)"
      ],
      "metadata": {
        "id": "atTFBJ_MKseu"
      },
      "execution_count": 64,
      "outputs": []
    },
    {
      "cell_type": "markdown",
      "source": [
        "# Определение нейросети"
      ],
      "metadata": {
        "id": "miTOe-bYKvIw"
      }
    },
    {
      "cell_type": "code",
      "source": [
        "# Определение нейросети\n",
        "class SimpleNeuralNetwork:\n",
        "    def __init__(self, input_size, hidden_size, output_size, lr=0.1):\n",
        "        self.lr = lr\n",
        "        self.input_size = input_size\n",
        "        self.hidden_size = hidden_size\n",
        "        self.output_size = output_size\n",
        "        self.W1 = np.random.randn(input_size, hidden_size) * np.sqrt(2 / input_size)\n",
        "        self.b1 = np.zeros((1, hidden_size))\n",
        "        self.W2 = np.random.randn(hidden_size, output_size) * np.sqrt(2 / hidden_size)\n",
        "        self.b2 = np.zeros((1, output_size))\n",
        "\n",
        "    def relu(self, x):\n",
        "        return np.maximum(0, x)\n",
        "\n",
        "    def relu_derivative(self, x):\n",
        "        return (x > 0).astype(float)\n",
        "\n",
        "    def forward(self, X):\n",
        "        self.z1 = np.dot(X, self.W1) + self.b1\n",
        "        self.a1 = self.relu(self.z1)\n",
        "        self.z2 = np.dot(self.a1, self.W2) + self.b2\n",
        "        return self.z2  # Линейный выход для регрессии\n",
        "\n",
        "    def backward(self, X, y, output):\n",
        "        m = X.shape[0]\n",
        "        d_output = (output - y) / m  # Производная MSE\n",
        "        d_W2 = np.dot(self.a1.T, d_output)\n",
        "        d_b2 = np.sum(d_output, axis=0, keepdims=True)\n",
        "        d_a1 = np.dot(d_output, self.W2.T) * self.relu_derivative(self.a1)\n",
        "        d_W1 = np.dot(X.T, d_a1)\n",
        "        d_b1 = np.sum(d_a1, axis=0, keepdims=True)\n",
        "\n",
        "        self.W2 -= self.lr * d_W2\n",
        "        self.b2 -= self.lr * d_b2\n",
        "        self.W1 -= self.lr * d_W1\n",
        "        self.b1 -= self.lr * d_b1\n",
        "\n",
        "    def train(self, X, y, epochs=1000):\n",
        "        for epoch in range(epochs):\n",
        "            output = self.forward(X)\n",
        "            self.backward(X, y, output)\n",
        "            if epoch % 100 == 0 or epoch == epochs - 1:\n",
        "                loss = np.mean((output - y) ** 2)\n",
        "                print(f\"Epoch {epoch}, Loss: {loss:.4f}\")\n",
        "\n",
        "    def predict(self, X):\n",
        "        return self.forward(X)"
      ],
      "metadata": {
        "id": "9UFmqxTiKuhu"
      },
      "execution_count": 65,
      "outputs": []
    },
    {
      "cell_type": "markdown",
      "source": [
        "# Запрос параметров у пользователя"
      ],
      "metadata": {
        "id": "XQLpMoDyKztO"
      }
    },
    {
      "cell_type": "code",
      "source": [
        "hidden_neurons = int(input(\"Введите количество нейронов в скрытом слое: \"))\n",
        "epochs = int(input(\"Введите количество эпох обучения: \"))"
      ],
      "metadata": {
        "colab": {
          "base_uri": "https://localhost:8080/"
        },
        "id": "DYJWGdnTK1R2",
        "outputId": "95bd314e-c7dc-48c7-b47e-04a3f199ae7c"
      },
      "execution_count": 66,
      "outputs": [
        {
          "name": "stdout",
          "output_type": "stream",
          "text": [
            "Введите количество нейронов в скрытом слое: 35\n",
            "Введите количество эпох обучения: 1000\n"
          ]
        }
      ]
    },
    {
      "cell_type": "markdown",
      "source": [
        "# Создание и обучение модели"
      ],
      "metadata": {
        "id": "k7Tn-NdQK3Nq"
      }
    },
    {
      "cell_type": "code",
      "source": [
        "nn = SimpleNeuralNetwork(input_size=3, hidden_size=hidden_neurons, output_size=1, lr=0.01)\n",
        "nn.train(X_train, y_train, epochs=epochs)"
      ],
      "metadata": {
        "colab": {
          "base_uri": "https://localhost:8080/"
        },
        "id": "woiU5c6JK2u2",
        "outputId": "a709183a-e5ce-40bc-fd5e-de55822bca11"
      },
      "execution_count": 67,
      "outputs": [
        {
          "output_type": "stream",
          "name": "stdout",
          "text": [
            "Epoch 0, Loss: 5.0932\n",
            "Epoch 100, Loss: 1.0211\n",
            "Epoch 200, Loss: 0.9958\n",
            "Epoch 300, Loss: 0.9883\n",
            "Epoch 400, Loss: 0.9852\n",
            "Epoch 500, Loss: 0.9834\n",
            "Epoch 600, Loss: 0.9823\n",
            "Epoch 700, Loss: 0.9814\n",
            "Epoch 800, Loss: 0.9807\n",
            "Epoch 900, Loss: 0.9801\n",
            "Epoch 999, Loss: 0.9796\n"
          ]
        }
      ]
    },
    {
      "cell_type": "markdown",
      "source": [
        "# Оценка на тестовых данных"
      ],
      "metadata": {
        "id": "4FmeX0BIK6RW"
      }
    },
    {
      "cell_type": "code",
      "source": [
        "y_pred = nn.predict(X_test)\n",
        "y_pred = scaler_y.inverse_transform(y_pred)\n",
        "y_test = scaler_y.inverse_transform(y_test)"
      ],
      "metadata": {
        "id": "vcrYamoJK7fU"
      },
      "execution_count": 68,
      "outputs": []
    },
    {
      "cell_type": "markdown",
      "source": [
        "# Вывод нескольких предсказанных и реальных значений"
      ],
      "metadata": {
        "id": "8UBqMi2VK8wu"
      }
    },
    {
      "cell_type": "code",
      "source": [
        "print(\"Real vs Predicted:\")\n",
        "for real, pred in zip(y_test[:100], y_pred[:100]):\n",
        "    print(f\"Real: {real[0]:.2f}, Predicted: {pred[0]:.2f}\")"
      ],
      "metadata": {
        "colab": {
          "base_uri": "https://localhost:8080/"
        },
        "id": "Up6Mn2SBK94i",
        "outputId": "164d2c60-1bb3-4b62-9888-31c65f5c53ad"
      },
      "execution_count": 69,
      "outputs": [
        {
          "output_type": "stream",
          "name": "stdout",
          "text": [
            "Real vs Predicted:\n",
            "Real: 0.75, Predicted: 0.47\n",
            "Real: 0.75, Predicted: 0.49\n",
            "Real: 0.60, Predicted: 0.52\n",
            "Real: 0.41, Predicted: 0.45\n",
            "Real: 0.72, Predicted: 0.50\n",
            "Real: 0.41, Predicted: 0.52\n",
            "Real: 0.74, Predicted: 0.56\n",
            "Real: 0.24, Predicted: 0.48\n",
            "Real: 1.00, Predicted: 0.52\n",
            "Real: 0.83, Predicted: 0.47\n",
            "Real: 0.11, Predicted: 0.50\n",
            "Real: 0.60, Predicted: 0.48\n",
            "Real: 0.59, Predicted: 0.50\n",
            "Real: 0.52, Predicted: 0.49\n",
            "Real: 0.32, Predicted: 0.49\n",
            "Real: 0.72, Predicted: 0.49\n",
            "Real: 0.81, Predicted: 0.48\n",
            "Real: 0.58, Predicted: 0.47\n",
            "Real: 0.22, Predicted: 0.49\n",
            "Real: 0.39, Predicted: 0.53\n",
            "Real: 0.25, Predicted: 0.51\n",
            "Real: 0.83, Predicted: 0.57\n",
            "Real: 0.41, Predicted: 0.46\n",
            "Real: 0.48, Predicted: 0.49\n",
            "Real: 0.34, Predicted: 0.49\n",
            "Real: 0.39, Predicted: 0.54\n",
            "Real: 0.56, Predicted: 0.49\n",
            "Real: 0.17, Predicted: 0.51\n",
            "Real: 0.44, Predicted: 0.52\n",
            "Real: 0.32, Predicted: 0.49\n",
            "Real: 0.05, Predicted: 0.51\n",
            "Real: 0.84, Predicted: 0.48\n",
            "Real: 0.55, Predicted: 0.50\n",
            "Real: 0.52, Predicted: 0.52\n",
            "Real: 0.19, Predicted: 0.49\n",
            "Real: 0.01, Predicted: 0.53\n",
            "Real: 0.71, Predicted: 0.49\n",
            "Real: 0.40, Predicted: 0.49\n",
            "Real: 0.16, Predicted: 0.55\n",
            "Real: 0.38, Predicted: 0.48\n",
            "Real: 0.60, Predicted: 0.50\n",
            "Real: 0.70, Predicted: 0.47\n",
            "Real: 0.75, Predicted: 0.53\n",
            "Real: 0.68, Predicted: 0.44\n",
            "Real: 0.35, Predicted: 0.51\n",
            "Real: 0.08, Predicted: 0.50\n",
            "Real: 0.94, Predicted: 0.49\n",
            "Real: 0.40, Predicted: 0.51\n",
            "Real: 0.26, Predicted: 0.49\n",
            "Real: 0.28, Predicted: 0.46\n",
            "Real: 0.20, Predicted: 0.49\n",
            "Real: 0.27, Predicted: 0.49\n",
            "Real: 0.12, Predicted: 0.48\n",
            "Real: 0.24, Predicted: 0.48\n",
            "Real: 0.55, Predicted: 0.49\n",
            "Real: 0.98, Predicted: 0.52\n",
            "Real: 0.71, Predicted: 0.53\n",
            "Real: 0.97, Predicted: 0.51\n",
            "Real: 0.33, Predicted: 0.49\n",
            "Real: 0.20, Predicted: 0.48\n",
            "Real: 0.89, Predicted: 0.51\n",
            "Real: 0.16, Predicted: 0.48\n",
            "Real: 0.91, Predicted: 0.52\n",
            "Real: 0.11, Predicted: 0.51\n",
            "Real: 0.07, Predicted: 0.48\n",
            "Real: 0.41, Predicted: 0.49\n",
            "Real: 0.35, Predicted: 0.52\n",
            "Real: 0.91, Predicted: 0.46\n",
            "Real: 0.13, Predicted: 0.57\n",
            "Real: 0.80, Predicted: 0.50\n",
            "Real: 0.68, Predicted: 0.55\n",
            "Real: 0.28, Predicted: 0.50\n",
            "Real: 0.93, Predicted: 0.50\n",
            "Real: 0.55, Predicted: 0.50\n",
            "Real: 0.65, Predicted: 0.51\n",
            "Real: 0.90, Predicted: 0.50\n",
            "Real: 0.19, Predicted: 0.53\n",
            "Real: 0.83, Predicted: 0.46\n",
            "Real: 0.31, Predicted: 0.47\n",
            "Real: 0.63, Predicted: 0.49\n",
            "Real: 0.84, Predicted: 0.52\n",
            "Real: 0.06, Predicted: 0.50\n",
            "Real: 0.62, Predicted: 0.49\n",
            "Real: 0.96, Predicted: 0.50\n",
            "Real: 0.80, Predicted: 0.50\n",
            "Real: 0.38, Predicted: 0.45\n",
            "Real: 0.21, Predicted: 0.54\n",
            "Real: 0.66, Predicted: 0.50\n",
            "Real: 0.05, Predicted: 0.51\n",
            "Real: 0.43, Predicted: 0.50\n",
            "Real: 0.00, Predicted: 0.49\n",
            "Real: 0.19, Predicted: 0.52\n",
            "Real: 0.34, Predicted: 0.49\n",
            "Real: 0.70, Predicted: 0.51\n",
            "Real: 0.21, Predicted: 0.47\n",
            "Real: 0.80, Predicted: 0.50\n",
            "Real: 0.82, Predicted: 0.46\n",
            "Real: 0.70, Predicted: 0.50\n",
            "Real: 0.82, Predicted: 0.49\n",
            "Real: 0.01, Predicted: 0.49\n"
          ]
        }
      ]
    }
  ]
}